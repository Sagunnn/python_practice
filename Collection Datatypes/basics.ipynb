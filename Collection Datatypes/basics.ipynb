{
 "cells": [
  {
   "cell_type": "code",
   "execution_count": 2,
   "metadata": {},
   "outputs": [
    {
     "name": "stdout",
     "output_type": "stream",
     "text": [
      "{'Hello?': 'Hi'}\n"
     ]
    }
   ],
   "source": [
    "list_questions=[]\n",
    "list_answer=[]\n",
    "continue_loop=\"y\"\n",
    "\n",
    "while(continue_loop.lower()==\"y\"):\n",
    "    list_questions.append(input('Enter Question'))\n",
    "    list_answer.append(input('Enter Answer'))\n",
    "    continue_loop=input('Do you want to Continue Y/N?')\n",
    "\n",
    "list_dict=dict(zip(list_questions,list_answer))\n",
    "print(list_dict)"
   ]
  }
 ],
 "metadata": {
  "kernelspec": {
   "display_name": "base",
   "language": "python",
   "name": "python3"
  },
  "language_info": {
   "codemirror_mode": {
    "name": "ipython",
    "version": 3
   },
   "file_extension": ".py",
   "mimetype": "text/x-python",
   "name": "python",
   "nbconvert_exporter": "python",
   "pygments_lexer": "ipython3",
   "version": "3.12.4"
  }
 },
 "nbformat": 4,
 "nbformat_minor": 2
}
